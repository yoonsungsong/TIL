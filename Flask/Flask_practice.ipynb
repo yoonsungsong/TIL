{
 "cells": [
  {
   "cell_type": "code",
   "execution_count": 6,
   "id": "01af27ac",
   "metadata": {},
   "outputs": [],
   "source": [
    "# !pip install flask"
   ]
  },
  {
   "cell_type": "code",
   "execution_count": 1,
   "id": "38f64922",
   "metadata": {},
   "outputs": [
    {
     "name": "stdout",
     "output_type": "stream",
     "text": [
      "\u001b[01;34mhello\u001b[00m\r\n",
      "├── hello.py\r\n",
      "├── \u001b[01;34mstatic\u001b[00m\r\n",
      "└── \u001b[01;34mtemplates\u001b[00m\r\n",
      "    └── profile.html\r\n",
      "\r\n",
      "2 directories, 2 files\r\n"
     ]
    }
   ],
   "source": [
    "!rm -rf hello\n",
    "!mkdir -p hello/static\n",
    "!mkdir -p hello/templates\n",
    "!touch hello/hello.py\n",
    "!touch hello/templates/profile.html\n",
    "!tree hello"
   ]
  },
  {
   "cell_type": "code",
   "execution_count": 2,
   "id": "f3d1bc72",
   "metadata": {},
   "outputs": [
    {
     "name": "stdout",
     "output_type": "stream",
     "text": [
      "Overwriting hello/hello.py\n"
     ]
    }
   ],
   "source": [
    "%%writefile hello/hello.py\n",
    "from flask import *\n",
    "app = Flask(__name__)\n",
    "@app.route(\"/\")\n",
    "def hello():\n",
    "    return \"Hello Flask\"\n",
    "# returns an HTML webpage\n",
    "@app.route(\"/user/<username>\")\n",
    "def user(username):\n",
    "    return render_template('profile.html', name=username)\n",
    "# retruns a piece of data in JSON format\n",
    "@app.route(\"/people\")\n",
    "def people():\n",
    "    people = {\"alice\": 25, \"jin\":35}\n",
    "    return jsonify(people)\n",
    "# run was\n",
    "app.run(debug=True)"
   ]
  },
  {
   "cell_type": "code",
   "execution_count": 3,
   "id": "90169c59",
   "metadata": {},
   "outputs": [
    {
     "name": "stdout",
     "output_type": "stream",
     "text": [
      "Overwriting hello/templates/profile.html\n"
     ]
    }
   ],
   "source": [
    "%%writefile hello/templates/profile.html\n",
    "<!DOCTYPE html>\n",
    "<html>\n",
    "<head>\n",
    "    <meta charset=\"utf-8\">\n",
    "    <title>Flask Basic</title>\n",
    "</head>\n",
    "<body>\n",
    "    Hello {{name}}\n",
    "    <button id=\"getData\">Get Data</button>\n",
    "    <div class=\"result\"></div>\n",
    "    <script src=\"https://cdnjs.cloudflare.com/ajax/libs/jquery/3.4.1/jquery.min.js\"></script>\n",
    "    <script type=\"text/javascript\">\n",
    "        $(document).ready(function() {\n",
    "            $(\"#getData\").click(function() {\n",
    "                $.getJSON(\"/people\", function(data) {\n",
    "                    console.log(data);\n",
    "                    var tag = \"<p>alice : \" + data.alice + \"</p>\";\n",
    "                        tag += \"<p>jin : \" + data.jin + \"</p>\";\n",
    "                    $(\".result\").html(tag);\n",
    "}) })\n",
    "}) </script>\n",
    "</body>\n",
    "</html>"
   ]
  },
  {
   "cell_type": "code",
   "execution_count": null,
   "id": "e982a162",
   "metadata": {},
   "outputs": [
    {
     "name": "stdout",
     "output_type": "stream",
     "text": [
      " * Serving Flask app \"hello\" (lazy loading)\n",
      " * Environment: production\n",
      "\u001b[31m   WARNING: This is a development server. Do not use it in a production deployment.\u001b[0m\n",
      "\u001b[2m   Use a production WSGI server instead.\u001b[0m\n",
      " * Debug mode: on\n",
      " * Running on http://127.0.0.1:5000/ (Press CTRL+C to quit)\n",
      " * Restarting with fsevents reloader\n",
      " * Debugger is active!\n",
      " * Debugger PIN: 127-264-546\n",
      "127.0.0.1 - - [21/Nov/2021 20:42:53] \"\u001b[37mGET / HTTP/1.1\u001b[0m\" 200 -\n",
      "127.0.0.1 - - [21/Nov/2021 20:43:35] \"\u001b[37mGET / HTTP/1.1\u001b[0m\" 200 -\n",
      "127.0.0.1 - - [21/Nov/2021 20:43:35] \"\u001b[37mGET / HTTP/1.1\u001b[0m\" 200 -\n"
     ]
    }
   ],
   "source": [
    "!python hello/hello.py"
   ]
  },
  {
   "cell_type": "code",
   "execution_count": null,
   "id": "242030e0",
   "metadata": {},
   "outputs": [],
   "source": []
  }
 ],
 "metadata": {
  "kernelspec": {
   "display_name": "Python 3",
   "language": "python",
   "name": "python3"
  },
  "language_info": {
   "codemirror_mode": {
    "name": "ipython",
    "version": 3
   },
   "file_extension": ".py",
   "mimetype": "text/x-python",
   "name": "python",
   "nbconvert_exporter": "python",
   "pygments_lexer": "ipython3",
   "version": "3.9.4"
  }
 },
 "nbformat": 4,
 "nbformat_minor": 5
}
