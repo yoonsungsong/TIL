{
 "cells": [
  {
   "cell_type": "code",
   "execution_count": 1,
   "id": "d082ecd3",
   "metadata": {},
   "outputs": [],
   "source": [
    "# !pip install mlxtend"
   ]
  },
  {
   "cell_type": "code",
   "execution_count": 3,
   "id": "1e76edf5",
   "metadata": {},
   "outputs": [],
   "source": [
    "import mlxtend\n",
    "import numpy as np\n",
    "import pandas as pd"
   ]
  },
  {
   "cell_type": "markdown",
   "id": "0dfc403f",
   "metadata": {},
   "source": [
    "# Apriori 와 FP-Growth 알고리즘 연습하기"
   ]
  },
  {
   "cell_type": "markdown",
   "id": "af093c29",
   "metadata": {},
   "source": [
    "![nn](images/table.png)"
   ]
  },
  {
   "cell_type": "markdown",
   "id": "375edea0",
   "metadata": {},
   "source": [
    "## 데이터"
   ]
  },
  {
   "cell_type": "code",
   "execution_count": 4,
   "id": "5ccdf7fa",
   "metadata": {},
   "outputs": [
    {
     "name": "stderr",
     "output_type": "stream",
     "text": [
      "<ipython-input-4-880971a45da9>:4: VisibleDeprecationWarning: Creating an ndarray from ragged nested sequences (which is a list-or-tuple of lists-or-tuples-or ndarrays with different lengths or shapes) is deprecated. If you meant to do this, you must specify 'dtype=object' when creating the ndarray.\n",
      "  data = np.array([\n"
     ]
    }
   ],
   "source": [
    "# 데이터셋을 생성\n",
    "# 우유, 기저귀, 쥬스, 맥주, 양상추\n",
    "\n",
    "data = np.array([\n",
    "    ['우유', '기저귀', '쥬스'], # 0번의 거래\n",
    "    ['양상추', '기저귀', '맥주'], # 1번의 거래\n",
    "    ['우유', '양상추', '기저귀', '맥주'], # 2번의 거래\n",
    "    ['양상추', '맥주'] # 3번의 거래\n",
    "])"
   ]
  },
  {
   "cell_type": "code",
   "execution_count": 5,
   "id": "cb80bc66",
   "metadata": {},
   "outputs": [
    {
     "data": {
      "text/plain": [
       "array([list(['우유', '기저귀', '쥬스']), list(['양상추', '기저귀', '맥주']),\n",
       "       list(['우유', '양상추', '기저귀', '맥주']), list(['양상추', '맥주'])],\n",
       "      dtype=object)"
      ]
     },
     "execution_count": 5,
     "metadata": {},
     "output_type": "execute_result"
    }
   ],
   "source": [
    "data"
   ]
  },
  {
   "cell_type": "markdown",
   "id": "f21a5960",
   "metadata": {},
   "source": [
    "## Apriori 알고리즘"
   ]
  },
  {
   "cell_type": "code",
   "execution_count": 8,
   "id": "6979c51f",
   "metadata": {},
   "outputs": [
    {
     "data": {
      "text/html": [
       "<div>\n",
       "<style scoped>\n",
       "    .dataframe tbody tr th:only-of-type {\n",
       "        vertical-align: middle;\n",
       "    }\n",
       "\n",
       "    .dataframe tbody tr th {\n",
       "        vertical-align: top;\n",
       "    }\n",
       "\n",
       "    .dataframe thead th {\n",
       "        text-align: right;\n",
       "    }\n",
       "</style>\n",
       "<table border=\"1\" class=\"dataframe\">\n",
       "  <thead>\n",
       "    <tr style=\"text-align: right;\">\n",
       "      <th></th>\n",
       "      <th>기저귀</th>\n",
       "      <th>맥주</th>\n",
       "      <th>양상추</th>\n",
       "      <th>우유</th>\n",
       "      <th>쥬스</th>\n",
       "    </tr>\n",
       "  </thead>\n",
       "  <tbody>\n",
       "    <tr>\n",
       "      <th>0</th>\n",
       "      <td>True</td>\n",
       "      <td>False</td>\n",
       "      <td>False</td>\n",
       "      <td>True</td>\n",
       "      <td>True</td>\n",
       "    </tr>\n",
       "    <tr>\n",
       "      <th>1</th>\n",
       "      <td>True</td>\n",
       "      <td>True</td>\n",
       "      <td>True</td>\n",
       "      <td>False</td>\n",
       "      <td>False</td>\n",
       "    </tr>\n",
       "    <tr>\n",
       "      <th>2</th>\n",
       "      <td>True</td>\n",
       "      <td>True</td>\n",
       "      <td>True</td>\n",
       "      <td>True</td>\n",
       "      <td>False</td>\n",
       "    </tr>\n",
       "    <tr>\n",
       "      <th>3</th>\n",
       "      <td>False</td>\n",
       "      <td>True</td>\n",
       "      <td>True</td>\n",
       "      <td>False</td>\n",
       "      <td>False</td>\n",
       "    </tr>\n",
       "  </tbody>\n",
       "</table>\n",
       "</div>"
      ],
      "text/plain": [
       "     기저귀     맥주    양상추     우유     쥬스\n",
       "0   True  False  False   True   True\n",
       "1   True   True   True  False  False\n",
       "2   True   True   True   True  False\n",
       "3  False   True   True  False  False"
      ]
     },
     "execution_count": 8,
     "metadata": {},
     "output_type": "execute_result"
    }
   ],
   "source": [
    "from mlxtend.preprocessing import TransactionEncoder\n",
    "\n",
    "te = TransactionEncoder()\n",
    "te_ary = te.fit(data).transform(data)\n",
    "df = pd.DataFrame(te_ary, columns=te.columns_)\n",
    "df"
   ]
  },
  {
   "cell_type": "code",
   "execution_count": 9,
   "id": "29bdae13",
   "metadata": {},
   "outputs": [
    {
     "data": {
      "text/plain": [
       "['기저귀', '맥주', '양상추', '우유', '쥬스']"
      ]
     },
     "execution_count": 9,
     "metadata": {},
     "output_type": "execute_result"
    }
   ],
   "source": [
    "te.columns_"
   ]
  },
  {
   "cell_type": "code",
   "execution_count": 10,
   "id": "52e44169",
   "metadata": {},
   "outputs": [
    {
     "data": {
      "text/plain": [
       "array([[ True, False, False,  True,  True],\n",
       "       [ True,  True,  True, False, False],\n",
       "       [ True,  True,  True,  True, False],\n",
       "       [False,  True,  True, False, False]])"
      ]
     },
     "execution_count": 10,
     "metadata": {},
     "output_type": "execute_result"
    }
   ],
   "source": [
    "te_ary"
   ]
  },
  {
   "cell_type": "code",
   "execution_count": 11,
   "id": "83a20403",
   "metadata": {},
   "outputs": [
    {
     "name": "stdout",
     "output_type": "stream",
     "text": [
      "CPU times: user 10.7 ms, sys: 4.52 ms, total: 15.2 ms\n",
      "Wall time: 20.9 ms\n"
     ]
    },
    {
     "data": {
      "text/html": [
       "<div>\n",
       "<style scoped>\n",
       "    .dataframe tbody tr th:only-of-type {\n",
       "        vertical-align: middle;\n",
       "    }\n",
       "\n",
       "    .dataframe tbody tr th {\n",
       "        vertical-align: top;\n",
       "    }\n",
       "\n",
       "    .dataframe thead th {\n",
       "        text-align: right;\n",
       "    }\n",
       "</style>\n",
       "<table border=\"1\" class=\"dataframe\">\n",
       "  <thead>\n",
       "    <tr style=\"text-align: right;\">\n",
       "      <th></th>\n",
       "      <th>support</th>\n",
       "      <th>itemsets</th>\n",
       "    </tr>\n",
       "  </thead>\n",
       "  <tbody>\n",
       "    <tr>\n",
       "      <th>0</th>\n",
       "      <td>0.75</td>\n",
       "      <td>(기저귀)</td>\n",
       "    </tr>\n",
       "    <tr>\n",
       "      <th>1</th>\n",
       "      <td>0.75</td>\n",
       "      <td>(맥주)</td>\n",
       "    </tr>\n",
       "    <tr>\n",
       "      <th>2</th>\n",
       "      <td>0.75</td>\n",
       "      <td>(양상추)</td>\n",
       "    </tr>\n",
       "    <tr>\n",
       "      <th>3</th>\n",
       "      <td>0.50</td>\n",
       "      <td>(우유)</td>\n",
       "    </tr>\n",
       "    <tr>\n",
       "      <th>4</th>\n",
       "      <td>0.50</td>\n",
       "      <td>(맥주, 기저귀)</td>\n",
       "    </tr>\n",
       "    <tr>\n",
       "      <th>5</th>\n",
       "      <td>0.50</td>\n",
       "      <td>(기저귀, 양상추)</td>\n",
       "    </tr>\n",
       "    <tr>\n",
       "      <th>6</th>\n",
       "      <td>0.50</td>\n",
       "      <td>(우유, 기저귀)</td>\n",
       "    </tr>\n",
       "    <tr>\n",
       "      <th>7</th>\n",
       "      <td>0.75</td>\n",
       "      <td>(맥주, 양상추)</td>\n",
       "    </tr>\n",
       "    <tr>\n",
       "      <th>8</th>\n",
       "      <td>0.50</td>\n",
       "      <td>(맥주, 기저귀, 양상추)</td>\n",
       "    </tr>\n",
       "  </tbody>\n",
       "</table>\n",
       "</div>"
      ],
      "text/plain": [
       "   support        itemsets\n",
       "0     0.75           (기저귀)\n",
       "1     0.75            (맥주)\n",
       "2     0.75           (양상추)\n",
       "3     0.50            (우유)\n",
       "4     0.50       (맥주, 기저귀)\n",
       "5     0.50      (기저귀, 양상추)\n",
       "6     0.50       (우유, 기저귀)\n",
       "7     0.75       (맥주, 양상추)\n",
       "8     0.50  (맥주, 기저귀, 양상추)"
      ]
     },
     "execution_count": 11,
     "metadata": {},
     "output_type": "execute_result"
    }
   ],
   "source": [
    "%%time\n",
    "from mlxtend.frequent_patterns import apriori\n",
    "\n",
    "apriori(df, min_support=0.5, use_colnames=True)"
   ]
  },
  {
   "cell_type": "markdown",
   "id": "30b27fd3",
   "metadata": {},
   "source": [
    "## FP-Growth"
   ]
  },
  {
   "cell_type": "code",
   "execution_count": 12,
   "id": "21e38eb2",
   "metadata": {},
   "outputs": [
    {
     "name": "stdout",
     "output_type": "stream",
     "text": [
      "CPU times: user 4.31 ms, sys: 1.92 ms, total: 6.23 ms\n",
      "Wall time: 6.35 ms\n"
     ]
    },
    {
     "data": {
      "text/html": [
       "<div>\n",
       "<style scoped>\n",
       "    .dataframe tbody tr th:only-of-type {\n",
       "        vertical-align: middle;\n",
       "    }\n",
       "\n",
       "    .dataframe tbody tr th {\n",
       "        vertical-align: top;\n",
       "    }\n",
       "\n",
       "    .dataframe thead th {\n",
       "        text-align: right;\n",
       "    }\n",
       "</style>\n",
       "<table border=\"1\" class=\"dataframe\">\n",
       "  <thead>\n",
       "    <tr style=\"text-align: right;\">\n",
       "      <th></th>\n",
       "      <th>support</th>\n",
       "      <th>itemsets</th>\n",
       "    </tr>\n",
       "  </thead>\n",
       "  <tbody>\n",
       "    <tr>\n",
       "      <th>0</th>\n",
       "      <td>0.75</td>\n",
       "      <td>(기저귀)</td>\n",
       "    </tr>\n",
       "    <tr>\n",
       "      <th>1</th>\n",
       "      <td>0.50</td>\n",
       "      <td>(우유)</td>\n",
       "    </tr>\n",
       "    <tr>\n",
       "      <th>2</th>\n",
       "      <td>0.75</td>\n",
       "      <td>(양상추)</td>\n",
       "    </tr>\n",
       "    <tr>\n",
       "      <th>3</th>\n",
       "      <td>0.75</td>\n",
       "      <td>(맥주)</td>\n",
       "    </tr>\n",
       "    <tr>\n",
       "      <th>4</th>\n",
       "      <td>0.50</td>\n",
       "      <td>(맥주, 기저귀)</td>\n",
       "    </tr>\n",
       "    <tr>\n",
       "      <th>5</th>\n",
       "      <td>0.50</td>\n",
       "      <td>(기저귀, 양상추)</td>\n",
       "    </tr>\n",
       "    <tr>\n",
       "      <th>6</th>\n",
       "      <td>0.50</td>\n",
       "      <td>(맥주, 기저귀, 양상추)</td>\n",
       "    </tr>\n",
       "    <tr>\n",
       "      <th>7</th>\n",
       "      <td>0.50</td>\n",
       "      <td>(우유, 기저귀)</td>\n",
       "    </tr>\n",
       "    <tr>\n",
       "      <th>8</th>\n",
       "      <td>0.75</td>\n",
       "      <td>(맥주, 양상추)</td>\n",
       "    </tr>\n",
       "  </tbody>\n",
       "</table>\n",
       "</div>"
      ],
      "text/plain": [
       "   support        itemsets\n",
       "0     0.75           (기저귀)\n",
       "1     0.50            (우유)\n",
       "2     0.75           (양상추)\n",
       "3     0.75            (맥주)\n",
       "4     0.50       (맥주, 기저귀)\n",
       "5     0.50      (기저귀, 양상추)\n",
       "6     0.50  (맥주, 기저귀, 양상추)\n",
       "7     0.50       (우유, 기저귀)\n",
       "8     0.75       (맥주, 양상추)"
      ]
     },
     "execution_count": 12,
     "metadata": {},
     "output_type": "execute_result"
    }
   ],
   "source": [
    "%%time\n",
    "from mlxtend.frequent_patterns import fpgrowth\n",
    "\n",
    "fpgrowth(df, min_support=0.5, use_colnames=True)"
   ]
  },
  {
   "cell_type": "markdown",
   "id": "4834beae",
   "metadata": {},
   "source": [
    "apriori보다 fp-growth가 세 배정도 빠른 것을 알 수 있다.\n",
    "\n",
    "단점이 너무 커서 현업에서는 잘 쓰이지 않음."
   ]
  },
  {
   "cell_type": "code",
   "execution_count": 13,
   "id": "14d575c9",
   "metadata": {},
   "outputs": [
    {
     "ename": "NameError",
     "evalue": "name 'association_rules' is not defined",
     "output_type": "error",
     "traceback": [
      "\u001b[0;31m---------------------------------------------------------------------------\u001b[0m",
      "\u001b[0;31mNameError\u001b[0m                                 Traceback (most recent call last)",
      "\u001b[0;32m<ipython-input-13-f922bb5b98e5>\u001b[0m in \u001b[0;36m<module>\u001b[0;34m\u001b[0m\n\u001b[1;32m      2\u001b[0m \u001b[0;34m\u001b[0m\u001b[0m\n\u001b[1;32m      3\u001b[0m \u001b[0massociation\u001b[0m \u001b[0;34m=\u001b[0m \u001b[0mfpgrowth\u001b[0m\u001b[0;34m(\u001b[0m\u001b[0mdf\u001b[0m\u001b[0;34m,\u001b[0m \u001b[0mmin_support\u001b[0m\u001b[0;34m=\u001b[0m\u001b[0;36m0.5\u001b[0m\u001b[0;34m,\u001b[0m \u001b[0muse_colnames\u001b[0m\u001b[0;34m=\u001b[0m\u001b[0;32mTrue\u001b[0m\u001b[0;34m)\u001b[0m\u001b[0;34m\u001b[0m\u001b[0;34m\u001b[0m\u001b[0m\n\u001b[0;32m----> 4\u001b[0;31m \u001b[0massociation_rules\u001b[0m\u001b[0;34m(\u001b[0m\u001b[0massociation\u001b[0m\u001b[0;34m,\u001b[0m \u001b[0mmetric\u001b[0m\u001b[0;34m=\u001b[0m\u001b[0;34m'confidence'\u001b[0m\u001b[0;34m,\u001b[0m \u001b[0mmin_threshold\u001b[0m\u001b[0;34m=\u001b[0m\u001b[0;36m0.5\u001b[0m\u001b[0;34m,\u001b[0m \u001b[0msupport_only\u001b[0m\u001b[0;34m=\u001b[0m\u001b[0;32mFalse\u001b[0m\u001b[0;34m)\u001b[0m\u001b[0;34m\u001b[0m\u001b[0;34m\u001b[0m\u001b[0m\n\u001b[0m",
      "\u001b[0;31mNameError\u001b[0m: name 'association_rules' is not defined"
     ]
    }
   ],
   "source": [
    "# 신뢰도나 향상도를 데이터프레임에서 확인하는 방법\n",
    "\n",
    "association = fpgrowth(df, min_support=0.5, use_colnames=True)\n",
    "association_rules(association, metric='confidence', min_threshold=0.5, support_only=False)"
   ]
  },
  {
   "cell_type": "code",
   "execution_count": null,
   "id": "78aeb9f2",
   "metadata": {},
   "outputs": [],
   "source": []
  }
 ],
 "metadata": {
  "kernelspec": {
   "display_name": "Python 3",
   "language": "python",
   "name": "python3"
  },
  "language_info": {
   "codemirror_mode": {
    "name": "ipython",
    "version": 3
   },
   "file_extension": ".py",
   "mimetype": "text/x-python",
   "name": "python",
   "nbconvert_exporter": "python",
   "pygments_lexer": "ipython3",
   "version": "3.9.4"
  }
 },
 "nbformat": 4,
 "nbformat_minor": 5
}
